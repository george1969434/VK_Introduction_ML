{
  "nbformat": 4,
  "nbformat_minor": 0,
  "metadata": {
    "colab": {
      "provenance": [],
      "authorship_tag": "ABX9TyN3aUg9JOTdQMJhl3qUdKll",
      "include_colab_link": true
    },
    "kernelspec": {
      "name": "python3",
      "display_name": "Python 3"
    },
    "language_info": {
      "name": "python"
    }
  },
  "cells": [
    {
      "cell_type": "markdown",
      "metadata": {
        "id": "view-in-github",
        "colab_type": "text"
      },
      "source": [
        "<a href=\"https://colab.research.google.com/github/george1969434/VK_Introduction_ML/blob/main/Untitled0.ipynb\" target=\"_parent\"><img src=\"https://colab.research.google.com/assets/colab-badge.svg\" alt=\"Open In Colab\"/></a>"
      ]
    },
    {
      "cell_type": "markdown",
      "source": [
        "1.1"
      ],
      "metadata": {
        "id": "ARN-LwvtpjIF"
      }
    },
    {
      "cell_type": "code",
      "execution_count": 61,
      "metadata": {
        "colab": {
          "base_uri": "https://localhost:8080/"
        },
        "id": "1FmUa7fSm2-r",
        "outputId": "e8954da3-8dec-44e2-da05-54513797afd6"
      },
      "outputs": [
        {
          "output_type": "stream",
          "name": "stdout",
          "text": [
            "Answer:\n",
            "3\n",
            "Time for demension 100:\n"
          ]
        },
        {
          "output_type": "stream",
          "name": "stderr",
          "text": [
            "<ipython-input-61-9867e401a2c2>:12: RuntimeWarning: overflow encountered in scalar multiply\n",
            "  prod*=i\n"
          ]
        },
        {
          "output_type": "stream",
          "name": "stdout",
          "text": [
            "80.6 µs ± 24.6 µs per loop (mean ± std. dev. of 7 runs, 10000 loops each)\n",
            "Time for demension 1000:\n",
            "213 µs ± 35 µs per loop (mean ± std. dev. of 7 runs, 10000 loops each)\n",
            "Time for demension 10000:\n",
            "1.72 ms ± 413 µs per loop (mean ± std. dev. of 7 runs, 1000 loops each)\n"
          ]
        }
      ],
      "source": [
        "import timeit\n",
        "import random\n",
        "import numpy as np\n",
        "X=np.array([[1,0,1],[2,0,2],[3,0,3],[4,4,4]])\n",
        "X100=np.random.randint(0,10,(100,100))\n",
        "X1000=np.random.randint(0,10,(1000,1000))\n",
        "X10000=np.random.randint(0,10,(10000,10000))\n",
        "def foo(X):\n",
        "  prod=1\n",
        "  for i in np.diag(X):\n",
        "    if (i!=0):\n",
        "      prod*=i\n",
        "  return prod\n",
        "print(\"Answer:\")\n",
        "print(foo(X))\n",
        "print(\"Time for demension 100:\")\n",
        "%timeit foo(X100)\n",
        "print(\"Time for demension 1000:\")\n",
        "%timeit foo(X1000)\n",
        "print(\"Time for demension 10000:\")\n",
        "%timeit foo(X10000)\n",
        "#print(X100)\n"
      ]
    },
    {
      "cell_type": "markdown",
      "source": [
        "1.2"
      ],
      "metadata": {
        "id": "OdYiDjtjpufW"
      }
    },
    {
      "cell_type": "code",
      "source": [
        "import timeit\n",
        "import random\n",
        "import numpy as np\n",
        "X=np.array([[1,0,1],[2,0,2],[3,0,3],[4,4,4]])\n",
        "def foo(X):\n",
        "  a=np.diag(X)\n",
        "  a=np.where(a!=0,a,1)\n",
        "  return np.prod(a)\n",
        "print(\"Answer:\")\n",
        "print(foo(X))\n",
        "print(\"Time for demension 100:\")\n",
        "%timeit foo(X100)\n",
        "print(\"Time for demension 1000:\")\n",
        "%timeit foo(X1000)\n",
        "print(\"Time for demension 10000:\")\n",
        "%timeit foo(X10000)"
      ],
      "metadata": {
        "colab": {
          "base_uri": "https://localhost:8080/"
        },
        "id": "DJ8qZASum9V0",
        "outputId": "715366c0-4d77-455a-ff77-67ef12d73fcd"
      },
      "execution_count": 63,
      "outputs": [
        {
          "output_type": "stream",
          "name": "stdout",
          "text": [
            "Answer:\n",
            "3\n",
            "Time for demension 100:\n",
            "13.1 µs ± 2.48 µs per loop (mean ± std. dev. of 7 runs, 100000 loops each)\n",
            "Time for demension 1000:\n",
            "19.1 µs ± 1.25 µs per loop (mean ± std. dev. of 7 runs, 10000 loops each)\n",
            "Time for demension 10000:\n",
            "102 µs ± 12.9 µs per loop (mean ± std. dev. of 7 runs, 10000 loops each)\n"
          ]
        }
      ]
    },
    {
      "cell_type": "markdown",
      "source": [
        "1.3"
      ],
      "metadata": {
        "id": "fXpvEBhZvg7m"
      }
    },
    {
      "cell_type": "code",
      "source": [
        "import timeit\n",
        "import random\n",
        "import numpy as np\n",
        "X=np.array([[1,0,1],[2,0,2],[3,0,3],[4,4,4]])\n",
        "def foo(X):\n",
        "  arr=np.diag(X)\n",
        "  return arr[(arr!=0)].prod()\n",
        "print(\"Answer:\")\n",
        "print(foo(X))\n",
        "print(\"Time for demension 100:\")\n",
        "%timeit foo(X100)\n",
        "print(\"Time for demension 1000:\")\n",
        "%timeit foo(X1000)\n",
        "print(\"Time for demension 10000:\")\n",
        "%timeit foo(X10000)"
      ],
      "metadata": {
        "colab": {
          "base_uri": "https://localhost:8080/"
        },
        "id": "TgIoAGzGr5QJ",
        "outputId": "e0965841-434a-4240-cc4a-67b5d97d0e01"
      },
      "execution_count": 64,
      "outputs": [
        {
          "output_type": "stream",
          "name": "stdout",
          "text": [
            "Answer:\n",
            "3\n",
            "Time for demension 100:\n",
            "7.24 µs ± 91 ns per loop (mean ± std. dev. of 7 runs, 100000 loops each)\n",
            "Time for demension 1000:\n",
            "15.8 µs ± 2.83 µs per loop (mean ± std. dev. of 7 runs, 100000 loops each)\n",
            "Time for demension 10000:\n",
            "102 µs ± 15.9 µs per loop (mean ± std. dev. of 7 runs, 10000 loops each)\n"
          ]
        }
      ]
    },
    {
      "cell_type": "code",
      "source": [],
      "metadata": {
        "id": "1NvaV6B3xiV0"
      },
      "execution_count": null,
      "outputs": []
    }
  ]
}