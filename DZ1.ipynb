{
  "cells": [
    {
      "cell_type": "markdown",
      "metadata": {
        "id": "view-in-github",
        "colab_type": "text"
      },
      "source": [
        "<a href=\"https://colab.research.google.com/github/george1969434/VK_Introduction_ML/blob/main/DZ1.ipynb\" target=\"_parent\"><img src=\"https://colab.research.google.com/assets/colab-badge.svg\" alt=\"Open In Colab\"/></a>"
      ]
    },
    {
      "cell_type": "markdown",
      "metadata": {
        "id": "ARN-LwvtpjIF"
      },
      "source": [
        "1.1"
      ]
    },
    {
      "cell_type": "code",
      "execution_count": null,
      "metadata": {
        "colab": {
          "base_uri": "https://localhost:8080/"
        },
        "id": "1FmUa7fSm2-r",
        "outputId": "e8954da3-8dec-44e2-da05-54513797afd6"
      },
      "outputs": [
        {
          "name": "stdout",
          "output_type": "stream",
          "text": [
            "Answer:\n",
            "3\n",
            "Time for demension 100:\n"
          ]
        },
        {
          "name": "stderr",
          "output_type": "stream",
          "text": [
            "<ipython-input-61-9867e401a2c2>:12: RuntimeWarning: overflow encountered in scalar multiply\n",
            "  prod*=i\n"
          ]
        },
        {
          "name": "stdout",
          "output_type": "stream",
          "text": [
            "80.6 µs ± 24.6 µs per loop (mean ± std. dev. of 7 runs, 10000 loops each)\n",
            "Time for demension 1000:\n",
            "213 µs ± 35 µs per loop (mean ± std. dev. of 7 runs, 10000 loops each)\n",
            "Time for demension 10000:\n",
            "1.72 ms ± 413 µs per loop (mean ± std. dev. of 7 runs, 1000 loops each)\n"
          ]
        }
      ],
      "source": [
        "import timeit\n",
        "import random\n",
        "import numpy as np\n",
        "X=np.array([[1,0,1],[2,0,2],[3,0,3],[4,4,4]])\n",
        "X100=np.random.randint(0,10,(100,100))\n",
        "X1000=np.random.randint(0,10,(1000,1000))\n",
        "X10000=np.random.randint(0,10,(10000,10000))\n",
        "def foo(X):\n",
        "  prod=1\n",
        "  for i in np.diag(X):\n",
        "    if (i!=0):\n",
        "      prod*=i\n",
        "  return prod\n",
        "print(\"Answer:\")\n",
        "print(foo(X))\n",
        "print(\"Time for demension 100:\")\n",
        "%timeit foo(X100)\n",
        "print(\"Time for demension 1000:\")\n",
        "%timeit foo(X1000)\n",
        "print(\"Time for demension 10000:\")\n",
        "%timeit foo(X10000)\n",
        "\n"
      ]
    },
    {
      "cell_type": "markdown",
      "metadata": {
        "id": "OdYiDjtjpufW"
      },
      "source": [
        "1.2"
      ]
    },
    {
      "cell_type": "code",
      "execution_count": null,
      "metadata": {
        "colab": {
          "base_uri": "https://localhost:8080/"
        },
        "id": "DJ8qZASum9V0",
        "outputId": "715366c0-4d77-455a-ff77-67ef12d73fcd"
      },
      "outputs": [
        {
          "name": "stdout",
          "output_type": "stream",
          "text": [
            "Answer:\n",
            "3\n",
            "Time for demension 100:\n",
            "13.1 µs ± 2.48 µs per loop (mean ± std. dev. of 7 runs, 100000 loops each)\n",
            "Time for demension 1000:\n",
            "19.1 µs ± 1.25 µs per loop (mean ± std. dev. of 7 runs, 10000 loops each)\n",
            "Time for demension 10000:\n",
            "102 µs ± 12.9 µs per loop (mean ± std. dev. of 7 runs, 10000 loops each)\n"
          ]
        }
      ],
      "source": [
        "import timeit\n",
        "import random\n",
        "import numpy as np\n",
        "X=np.array([[1,0,1],[2,0,2],[3,0,3],[4,4,4]])\n",
        "def foo(X):\n",
        "  a=np.diag(X)\n",
        "  a=np.where(a!=0,a,1)\n",
        "  return np.prod(a)\n",
        "print(\"Answer:\")\n",
        "print(foo(X))\n",
        "print(\"Time for demension 100:\")\n",
        "%timeit foo(X100)\n",
        "print(\"Time for demension 1000:\")\n",
        "%timeit foo(X1000)\n",
        "print(\"Time for demension 10000:\")\n",
        "%timeit foo(X10000)"
      ]
    },
    {
      "cell_type": "markdown",
      "metadata": {
        "id": "fXpvEBhZvg7m"
      },
      "source": [
        "1.3"
      ]
    },
    {
      "cell_type": "code",
      "execution_count": null,
      "metadata": {
        "colab": {
          "base_uri": "https://localhost:8080/"
        },
        "id": "TgIoAGzGr5QJ",
        "outputId": "e0965841-434a-4240-cc4a-67b5d97d0e01"
      },
      "outputs": [
        {
          "name": "stdout",
          "output_type": "stream",
          "text": [
            "Answer:\n",
            "3\n",
            "Time for demension 100:\n",
            "7.24 µs ± 91 ns per loop (mean ± std. dev. of 7 runs, 100000 loops each)\n",
            "Time for demension 1000:\n",
            "15.8 µs ± 2.83 µs per loop (mean ± std. dev. of 7 runs, 100000 loops each)\n",
            "Time for demension 10000:\n",
            "102 µs ± 15.9 µs per loop (mean ± std. dev. of 7 runs, 10000 loops each)\n"
          ]
        }
      ],
      "source": [
        "import timeit\n",
        "import random\n",
        "import numpy as np\n",
        "X=np.array([[1,0,1],[2,0,2],[3,0,3],[4,4,4]])\n",
        "def foo(X):\n",
        "  arr=np.diag(X)\n",
        "  return arr[(arr!=0)].prod()\n",
        "print(\"Answer:\")\n",
        "print(foo(X))\n",
        "print(\"Time for demension 100:\")\n",
        "%timeit foo(X100)\n",
        "print(\"Time for demension 1000:\")\n",
        "%timeit foo(X1000)\n",
        "print(\"Time for demension 10000:\")\n",
        "%timeit foo(X10000)"
      ]
    },
    {
      "cell_type": "markdown",
      "metadata": {
        "id": "eZ8NRUz4shN_"
      },
      "source": [
        "Вывод: третий и второй вариант оказались быстрее первого, так как содержат встроенную оптимизированную функцию prod(). Кроме того, в первом варианте мы работаем с каждым значение вектора, что значительно замедляет работу при работе с большой размерностью матрицы."
      ]
    },
    {
      "cell_type": "markdown",
      "metadata": {
        "id": "xvun7L6WtJyz"
      },
      "source": [
        "2.1"
      ]
    },
    {
      "cell_type": "code",
      "execution_count": null,
      "metadata": {
        "colab": {
          "base_uri": "https://localhost:8080/"
        },
        "id": "1NvaV6B3xiV0",
        "outputId": "5f50bf68-2360-4de2-89ea-669158908eaf"
      },
      "outputs": [
        {
          "name": "stdout",
          "output_type": "stream",
          "text": [
            "Answer:\n",
            "[0, 5, 8, 3, 4, 5, 6, 1, 1, 1]\n",
            "Time for demension 100:\n",
            "238 µs ± 3.79 µs per loop (mean ± std. dev. of 7 runs, 1000 loops each)\n",
            "Time for demension 1000:\n",
            "16.7 ms ± 1.89 ms per loop (mean ± std. dev. of 7 runs, 100 loops each)\n",
            "Time for demension 10000:\n",
            "1.73 s ± 136 ms per loop (mean ± std. dev. of 7 runs, 1 loop each)\n"
          ]
        }
      ],
      "source": [
        "import timeit\n",
        "import random\n",
        "import numpy as np\n",
        "def vec(size):\n",
        "  X=np.random.randint(0,10,(size,size))\n",
        "  i=np.random.randint(0,10,size)\n",
        "  j=np.random.randint(0,10,size)\n",
        "  lst=[]\n",
        "  for k in range(0,len(i)):\n",
        "    lst.append(X[i[k],j[k]])\n",
        "  return lst\n",
        "\n",
        "print(\"Answer:\")\n",
        "print(vec(10))\n",
        "print(\"Time for demension 100:\")\n",
        "%timeit lst100=vec(100)\n",
        "print(\"Time for demension 1000:\")\n",
        "%timeit lst1000=vec(1000)\n",
        "print(\"Time for demension 10000:\")\n",
        "%timeit lst10000=vec(10000)\n"
      ]
    },
    {
      "cell_type": "markdown",
      "metadata": {
        "id": "o1CQtYSszINH"
      },
      "source": [
        "2.2"
      ]
    },
    {
      "cell_type": "code",
      "execution_count": null,
      "metadata": {
        "id": "WGRfD4FLtXBu"
      },
      "outputs": [],
      "source": []
    },
    {
      "cell_type": "markdown",
      "metadata": {
        "id": "i_XwkC0IDMit"
      },
      "source": [
        "2.3"
      ]
    },
    {
      "cell_type": "code",
      "execution_count": null,
      "metadata": {
        "colab": {
          "base_uri": "https://localhost:8080/"
        },
        "id": "CmYyCn3IBtd3",
        "outputId": "1c209fe3-8620-40d0-a582-0a095cd7d699"
      },
      "outputs": [
        {
          "name": "stdout",
          "output_type": "stream",
          "text": [
            "Answer:\n",
            "[5 9 3 6 1 5 6 1 0 6]\n",
            "Time for demension 100:\n",
            "209 µs ± 18.8 µs per loop (mean ± std. dev. of 7 runs, 10000 loops each)\n",
            "Time for demension 1000:\n",
            "16.5 ms ± 1.64 ms per loop (mean ± std. dev. of 7 runs, 100 loops each)\n",
            "Time for demension 10000:\n",
            "1.79 s ± 151 ms per loop (mean ± std. dev. of 7 runs, 1 loop each)\n"
          ]
        }
      ],
      "source": [
        "import timeit\n",
        "import random\n",
        "import numpy as np\n",
        "def vec(size):\n",
        "  X=np.random.randint(0,10,(size,size))\n",
        "  i=np.random.randint(0,10,size)\n",
        "  j=np.random.randint(0,10,size)\n",
        "  lst=[];\n",
        "  lst=X[i[0:len(i)],j[0:len(i)]]\n",
        "  return lst\n",
        "\n",
        "print(\"Answer:\")\n",
        "print(vec(10))\n",
        "print(\"Time for demension 100:\")\n",
        "%timeit lst100=vec(100)\n",
        "print(\"Time for demension 1000:\")\n",
        "%timeit lst1000=vec(1000)\n",
        "print(\"Time for demension 10000:\")\n",
        "%timeit lst10000=vec(10000)"
      ]
    },
    {
      "cell_type": "markdown",
      "metadata": {
        "id": "_emKBd3jL1yR"
      },
      "source": [
        "Вывод: вариант с векторами оказался незначительно быстрее варианта с циклами"
      ]
    },
    {
      "cell_type": "markdown",
      "metadata": {
        "id": "MH7U6xEWL6mh"
      },
      "source": [
        "3.1"
      ]
    },
    {
      "cell_type": "code",
      "execution_count": null,
      "metadata": {
        "colab": {
          "base_uri": "https://localhost:8080/"
        },
        "id": "G6UKcWXRL4wA",
        "outputId": "3dc711b5-7dd9-4eba-d30f-225afbfe57fd"
      },
      "outputs": [
        {
          "name": "stdout",
          "output_type": "stream",
          "text": [
            "Answer:\n",
            "True\n",
            "Time for demension 100:\n",
            "402 µs ± 17.4 µs per loop (mean ± std. dev. of 7 runs, 1000 loops each)\n",
            "Time for demension 1000:\n",
            "3.18 ms ± 75.2 µs per loop (mean ± std. dev. of 7 runs, 100 loops each)\n",
            "Time for demension 10000:\n",
            "835 µs ± 126 µs per loop (mean ± std. dev. of 7 runs, 1000 loops each)\n"
          ]
        }
      ],
      "source": [
        "import timeit\n",
        "import numpy as np\n",
        "x=np.array([1,2,2,4])\n",
        "y=np.array([4,2,1,2])\n",
        "x100=np.random.randint(0,10,100)\n",
        "y100=np.random.randint(0,10,100)\n",
        "x1000=np.random.randint(0,10,1000)\n",
        "y1000=np.random.randint(0,10,1000)\n",
        "x10000=np.random.randint(0,10,10000)\n",
        "y10000=np.random.randint(0,10,10000)\n",
        "def mult(x,y):\n",
        "  if(str(np.sort(y))== str(np.sort(x))):\n",
        "    flag=True\n",
        "  else:\n",
        "    flag=False\n",
        "  return flag\n",
        "\n",
        "print(\"Answer:\")\n",
        "print(mult(x,y))\n",
        "print(\"Time for demension 100:\")\n",
        "%timeit mult(x100,y100)\n",
        "print(\"Time for demension 1000:\")\n",
        "%timeit mult(x1000,y1000)\n",
        "print(\"Time for demension 10000:\")\n",
        "%timeit mult(x10000,y10000)\n"
      ]
    },
    {
      "cell_type": "markdown",
      "metadata": {
        "id": "MUvN9LJmeUlv"
      },
      "source": [
        "3.2"
      ]
    },
    {
      "cell_type": "code",
      "execution_count": null,
      "metadata": {
        "colab": {
          "base_uri": "https://localhost:8080/"
        },
        "id": "zpCEuQAXMbpv",
        "outputId": "ecbac1d0-d02f-4568-a397-fbeec2848dbb"
      },
      "outputs": [
        {
          "name": "stdout",
          "output_type": "stream",
          "text": [
            "Answer:\n",
            "True\n",
            "Time for demension 100:\n",
            "6.99 µs ± 2.09 µs per loop (mean ± std. dev. of 7 runs, 100000 loops each)\n",
            "Time for demension 1000:\n",
            "95.3 µs ± 1.03 µs per loop (mean ± std. dev. of 7 runs, 10000 loops each)\n",
            "Time for demension 10000:\n",
            "938 µs ± 164 µs per loop (mean ± std. dev. of 7 runs, 1000 loops each)\n"
          ]
        }
      ],
      "source": [
        "import timeit\n",
        "import numpy as np\n",
        "x=np.array([1,2,2,4])\n",
        "y=np.array([4,2,1,2])\n",
        "x100=np.random.randint(0,10,100)\n",
        "y100=np.random.randint(0,10,100)\n",
        "x1000=np.random.randint(0,10,1000)\n",
        "y1000=np.random.randint(0,10,1000)\n",
        "x10000=np.random.randint(0,10,10000)\n",
        "y10000=np.random.randint(0,10,10000)\n",
        "def mult(x,y):\n",
        "  lst1=np.sort(x)\n",
        "  lst2=np.sort(y)\n",
        "  for i in range(0,len(lst1)):\n",
        "    if(lst1[i]!=lst2[i]):\n",
        "      return False\n",
        "  return True\n",
        "\n",
        "print(\"Answer:\")\n",
        "print(mult(x,y))\n",
        "print(\"Time for demension 100:\")\n",
        "%timeit mult(x100,y100)\n",
        "print(\"Time for demension 1000:\")\n",
        "%timeit mult(x1000,y1000)\n",
        "print(\"Time for demension 10000:\")\n",
        "%timeit mult(x10000,y10000)"
      ]
    },
    {
      "cell_type": "markdown",
      "metadata": {
        "id": "9Fncw8phl6n_"
      },
      "source": [
        "3.3"
      ]
    },
    {
      "cell_type": "code",
      "execution_count": null,
      "metadata": {
        "colab": {
          "base_uri": "https://localhost:8080/"
        },
        "id": "MLl5nUBvgsIB",
        "outputId": "35c005a4-b270-4eef-b7c5-4fa74f207c24"
      },
      "outputs": [
        {
          "name": "stdout",
          "output_type": "stream",
          "text": [
            "Answer:\n",
            "True\n",
            "Time for demension 100:\n",
            "7.68 µs ± 216 ns per loop (mean ± std. dev. of 7 runs, 100000 loops each)\n",
            "Time for demension 1000:\n",
            "59 µs ± 11.4 µs per loop (mean ± std. dev. of 7 runs, 10000 loops each)\n",
            "Time for demension 10000:\n",
            "619 µs ± 16.8 µs per loop (mean ± std. dev. of 7 runs, 1000 loops each)\n"
          ]
        }
      ],
      "source": [
        "import timeit\n",
        "import numpy as np\n",
        "x=np.array([1,2,2,4])\n",
        "y=np.array([4,2,1,2])\n",
        "x100=np.random.randint(0,10,100)\n",
        "y100=np.random.randint(0,10,100)\n",
        "x1000=np.random.randint(0,10,1000)\n",
        "y1000=np.random.randint(0,10,1000)\n",
        "x10000=np.random.randint(0,10,10000)\n",
        "y10000=np.random.randint(0,10,10000)\n",
        "def mult(x,y):\n",
        "  return np.array_equal(np.sort(x), np.sort(y))\n",
        "\n",
        "print(\"Answer:\")\n",
        "print(mult(x,y))\n",
        "print(\"Time for demension 100:\")\n",
        "%timeit mult(x100,y100)\n",
        "print(\"Time for demension 1000:\")\n",
        "%timeit mult(x1000,y1000)\n",
        "print(\"Time for demension 10000:\")\n",
        "%timeit mult(x10000,y10000)\n",
        "\n"
      ]
    },
    {
      "cell_type": "markdown",
      "metadata": {
        "id": "AjDMB6cyydCI"
      },
      "source": [
        "Выводы: в среднем третий вариант оказался самым лучшим благодаря встроенной функции array_equal(). Вариант с циклом оказался лучше варианта со строками (первого) и для размерности 100 быстрее чем третий вариант, так как при наличии первого несовпадения выдает False, чего нету ни в первом варианте, ни в третьем"
      ]
    },
    {
      "cell_type": "markdown",
      "metadata": {
        "id": "Nt7LXodA3qpY"
      },
      "source": [
        "4.1"
      ]
    },
    {
      "cell_type": "code",
      "execution_count": null,
      "metadata": {
        "colab": {
          "base_uri": "https://localhost:8080/"
        },
        "id": "gXk44Mmthd1b",
        "outputId": "6470522d-625d-47f0-82dc-6cfd2997a211"
      },
      "outputs": [
        {
          "name": "stdout",
          "output_type": "stream",
          "text": [
            "Answer:\n",
            "5\n",
            "Time for demension 100:\n",
            "22.9 µs ± 465 ns per loop (mean ± std. dev. of 7 runs, 10000 loops each)\n",
            "Time for demension 1000:\n",
            "230 µs ± 5.59 µs per loop (mean ± std. dev. of 7 runs, 1000 loops each)\n",
            "Time for demension 10000:\n",
            "2.27 ms ± 47.7 µs per loop (mean ± std. dev. of 7 runs, 100 loops each)\n"
          ]
        }
      ],
      "source": [
        "import timeit\n",
        "import random\n",
        "import numpy as np\n",
        "X100=np.random.randint(0,4,(100))\n",
        "X1000=np.random.randint(0,4,(1000))\n",
        "X10000=np.random.randint(0,4,(10000))\n",
        "x=np.array([6,2,0,3,0,0,5,7,0])\n",
        "def foo(x):\n",
        "  ans=[]\n",
        "  for i in range(0,len(x)-1):\n",
        "    if x[i]==0:\n",
        "      ans.append(x[i+1])\n",
        "  return max(ans)\n",
        "print(\"Answer:\")\n",
        "print(foo(x))\n",
        "print(\"Time for demension 100:\")\n",
        "%timeit foo(X100)\n",
        "print(\"Time for demension 1000:\")\n",
        "%timeit foo(X1000)\n",
        "print(\"Time for demension 10000:\")\n",
        "%timeit foo(X10000)"
      ]
    },
    {
      "cell_type": "markdown",
      "metadata": {
        "id": "9-83SsQV1yi9"
      },
      "source": [
        "4.2"
      ]
    },
    {
      "cell_type": "code",
      "execution_count": null,
      "metadata": {
        "colab": {
          "base_uri": "https://localhost:8080/"
        },
        "id": "Pqt5HJOp0CTN",
        "outputId": "73be1a28-66ce-4a2e-b6a8-b57866700035"
      },
      "outputs": [
        {
          "name": "stdout",
          "output_type": "stream",
          "text": [
            "Answer:\n",
            "5\n",
            "Time for demension 100:\n",
            "23.6 µs ± 724 ns per loop (mean ± std. dev. of 7 runs, 10000 loops each)\n",
            "Time for demension 1000:\n",
            "404 µs ± 103 µs per loop (mean ± std. dev. of 7 runs, 1000 loops each)\n",
            "Time for demension 10000:\n",
            "2.46 ms ± 69.3 µs per loop (mean ± std. dev. of 7 runs, 100 loops each)\n"
          ]
        }
      ],
      "source": [
        "import timeit\n",
        "import random\n",
        "import numpy as np\n",
        "X100=np.random.randint(0,4,(100))\n",
        "X1000=np.random.randint(0,4,(1000))\n",
        "X10000=np.random.randint(0,4,(10000))\n",
        "x=np.array([6,2,0,3,0,0,5,7,0])\n",
        "def foo(x):\n",
        "  return max(x[i] for i in range(1,len(x)) if x[i-1]==0)\n",
        "print(\"Answer:\")\n",
        "print(foo(x))\n",
        "print(\"Time for demension 100:\")\n",
        "%timeit foo(X100)\n",
        "print(\"Time for demension 1000:\")\n",
        "%timeit foo(X1000)\n",
        "print(\"Time for demension 10000:\")\n",
        "%timeit foo(X10000)"
      ]
    },
    {
      "cell_type": "markdown",
      "metadata": {
        "id": "zG1wLatEHwbY"
      },
      "source": [
        "4.3"
      ]
    },
    {
      "cell_type": "code",
      "execution_count": null,
      "metadata": {
        "colab": {
          "base_uri": "https://localhost:8080/"
        },
        "id": "l9kgW8afCswZ",
        "outputId": "0060166a-157b-446e-fb0b-765b4817898b"
      },
      "outputs": [
        {
          "name": "stdout",
          "output_type": "stream",
          "text": [
            "Answer:\n",
            "5\n",
            "Time for demension 100:\n",
            "7.72 µs ± 2.07 µs per loop (mean ± std. dev. of 7 runs, 100000 loops each)\n",
            "Time for demension 1000:\n",
            "26.7 µs ± 471 ns per loop (mean ± std. dev. of 7 runs, 10000 loops each)\n",
            "Time for demension 10000:\n",
            "242 µs ± 3.7 µs per loop (mean ± std. dev. of 7 runs, 1000 loops each)\n"
          ]
        }
      ],
      "source": [
        "import timeit\n",
        "import random\n",
        "import numpy as np\n",
        "X100=np.random.randint(0,4,(100))\n",
        "X1000=np.random.randint(0,4,(1000))\n",
        "X10000=np.random.randint(0,4,(10000))\n",
        "x=np.array([6,2,0,3,0,0,5,7,0])\n",
        "def foo(x):\n",
        "  isnull=x==0\n",
        "  #print(isnull[:-1])\n",
        "  return max(x[1:][isnull[0:len(x)-1]])\n",
        "print(\"Answer:\")\n",
        "print(foo(x))\n",
        "print(\"Time for demension 100:\")\n",
        "%timeit foo(X100)\n",
        "print(\"Time for demension 1000:\")\n",
        "%timeit foo(X1000)\n",
        "print(\"Time for demension 10000:\")\n",
        "%timeit foo(X10000)"
      ]
    },
    {
      "cell_type": "markdown",
      "metadata": {
        "id": "XInn0UEeXlm6"
      },
      "source": [
        "Выводы: самым быстрым оказался вариант с векторами, два других, с циклами показали примерно одинаковое время"
      ]
    },
    {
      "cell_type": "markdown",
      "metadata": {
        "id": "BCeWt_EddLSy"
      },
      "source": [
        "5.1"
      ]
    },
    {
      "cell_type": "code",
      "execution_count": null,
      "metadata": {
        "colab": {
          "base_uri": "https://localhost:8080/"
        },
        "id": "nG0CFJMcGI7i",
        "outputId": "66880c4a-cf43-47f1-fbaf-115230a15699"
      },
      "outputs": [
        {
          "name": "stdout",
          "output_type": "stream",
          "text": [
            "Answer:\n",
            "[[5. 8. 6.]\n",
            " [6. 2. 1.]\n",
            " [3. 6. 2.]]\n",
            "Time for demension 100:\n",
            "1.09 ms ± 12.1 µs per loop (mean ± std. dev. of 7 runs, 1000 loops each)\n",
            "Time for demension 1000:\n",
            "1.29 s ± 218 ms per loop (mean ± std. dev. of 7 runs, 1 loop each)\n"
          ]
        }
      ],
      "source": [
        "import timeit\n",
        "import random\n",
        "import numpy as np\n",
        "pic=np.random.randint(0,10,(3,3,3))\n",
        "numChannels=np.array([0.299,0.587,0.114])\n",
        "pic100=np.random.randint(0,10,(100,100,100))\n",
        "pic1000=np.random.randint(0,10,(1000,1000,1000))\n",
        "num100=np.random.randint(0,10,100)\n",
        "num1000=np.random.randint(0,10,1000)\n",
        "def foo(pic,num):\n",
        "  return np.round(np.dot(pic,num))\n",
        "print(\"Answer:\")\n",
        "print(foo(pic,numChannels))\n",
        "print(\"Time for demension 100:\")\n",
        "%timeit foo(pic100,num100)\n",
        "print(\"Time for demension 1000:\")\n",
        "%timeit foo(pic1000,num1000)"
      ]
    },
    {
      "cell_type": "markdown",
      "metadata": {
        "id": "uTDkKZcjdNii"
      },
      "source": [
        "5.2"
      ]
    },
    {
      "cell_type": "code",
      "execution_count": null,
      "metadata": {
        "colab": {
          "background_save": true,
          "base_uri": "https://localhost:8080/"
        },
        "id": "IATBV7qyaAKH",
        "outputId": "d57d0c61-2a4f-4dd0-9321-08b26d40e472"
      },
      "outputs": [
        {
          "name": "stdout",
          "output_type": "stream",
          "text": [
            "Answer:\n",
            "[[2. 6. 7.]\n",
            " [7. 2. 4.]\n",
            " [8. 7. 6.]]\n",
            "Time for demension 100:\n",
            "1.11 s ± 306 ms per loop (mean ± std. dev. of 7 runs, 1 loop each)\n",
            "Time for demension 1000:\n"
          ]
        }
      ],
      "source": [
        "import timeit\n",
        "import random\n",
        "import numpy as np\n",
        "pic=np.random.randint(0,10,(3,3,3))\n",
        "numChannels=np.array([0.299,0.587,0.114])\n",
        "pic100=np.random.randint(0,10,(100,100,100))\n",
        "pic1000=np.random.randint(0,10,(1000,1000,1000))\n",
        "num100=np.random.randint(0,10,100)\n",
        "num1000=np.random.randint(0,10,1000)\n",
        "def foo(pic,num):\n",
        "  ans=np.zeros((len(pic),len(pic)))\n",
        "  for i in range(len(pic)):\n",
        "    for j in range(len(pic)):\n",
        "      for k in range(len(pic)):\n",
        "        ans[i][j]+=pic[i][j][k]*num[k]\n",
        "  return np.round(ans)\n",
        "\n",
        "  return np.dot(pic,num)\n",
        "print(\"Answer:\")\n",
        "print(foo(pic,numChannels))\n",
        "print(\"Time for demension 100:\")\n",
        "%timeit foo(pic100,num100)\n",
        "print(\"Time for demension 1000:\")\n",
        "%timeit foo(pic1000,num1000)"
      ]
    },
    {
      "cell_type": "markdown",
      "metadata": {
        "id": "huYIDsXYhccC"
      },
      "source": [
        "Выводы: сами вычисления в этой задачи довольно долгие, какой вариант не выбери, поэтому пришлось отбросить размерность 10000. Вариант со встроенной функцией dot(), как и ожидалось, оказался быстрее, чем вариант с циклами"
      ]
    },
    {
      "cell_type": "markdown",
      "metadata": {
        "id": "O6JuSiSIiGNL"
      },
      "source": [
        "6.1"
      ]
    },
    {
      "cell_type": "code",
      "execution_count": 7,
      "metadata": {
        "colab": {
          "base_uri": "https://localhost:8080/"
        },
        "id": "4-QwST2beDWQ",
        "outputId": "ac670b25-3a22-4b40-aba6-bf04662f1bfd"
      },
      "outputs": [
        {
          "output_type": "stream",
          "name": "stdout",
          "text": [
            "Answer:\n",
            "([2, 3, 5, 2], [3, 3, 1, 2])\n",
            "Time for demension 100:\n",
            "45.2 µs ± 11.6 µs per loop (mean ± std. dev. of 7 runs, 10000 loops each)\n",
            "Time for demension 1000:\n",
            "417 µs ± 11 µs per loop (mean ± std. dev. of 7 runs, 1000 loops each)\n",
            "Time for demension 10000:\n",
            "4.26 ms ± 119 µs per loop (mean ± std. dev. of 7 runs, 100 loops each)\n"
          ]
        }
      ],
      "source": [
        "import timeit\n",
        "import random\n",
        "import numpy as np\n",
        "x=np.array([2,2,2,3,3,3,5,2,2])\n",
        "X100=np.random.randint(0,4,(100))\n",
        "X1000=np.random.randint(0,4,(1000))\n",
        "X10000=np.random.randint(0,4,(10000))\n",
        "def foo(x):\n",
        "  lst=[x[0]]\n",
        "  kol=[1]\n",
        "  temp=x[0]\n",
        "  for i in range(1,len(x)):\n",
        "    if x[i]!=temp:\n",
        "      lst.append(x[i])\n",
        "      kol.append(1)\n",
        "      temp=x[i]\n",
        "    else:\n",
        "      kol[len(kol)-1]+=1\n",
        "  return lst,kol\n",
        "print(\"Answer:\")\n",
        "print(foo(x))\n",
        "print(\"Time for demension 100:\")\n",
        "%timeit foo(X100)\n",
        "print(\"Time for demension 1000:\")\n",
        "%timeit foo(X1000)\n",
        "print(\"Time for demension 10000:\")\n",
        "%timeit foo(X10000)"
      ]
    },
    {
      "cell_type": "markdown",
      "source": [
        "6.2"
      ],
      "metadata": {
        "id": "WD6v-42qKRdk"
      }
    },
    {
      "cell_type": "code",
      "execution_count": 2,
      "metadata": {
        "id": "leoPAVZJeGSQ",
        "colab": {
          "base_uri": "https://localhost:8080/"
        },
        "outputId": "56c3da28-8495-453e-d725-07ef60cbf1c9"
      },
      "outputs": [
        {
          "output_type": "stream",
          "name": "stdout",
          "text": [
            "Answer:\n",
            "(['2', '3', '5', '2'], [3, 3, 1, 2])\n",
            "Time for demension 100:\n",
            "485 µs ± 238 µs per loop (mean ± std. dev. of 7 runs, 1000 loops each)\n",
            "Time for demension 1000:\n",
            "3.63 ms ± 360 µs per loop (mean ± std. dev. of 7 runs, 100 loops each)\n",
            "Time for demension 10000:\n",
            "76.6 µs ± 8.09 µs per loop (mean ± std. dev. of 7 runs, 10000 loops each)\n"
          ]
        }
      ],
      "source": [
        "import timeit\n",
        "import random\n",
        "import numpy as np\n",
        "x=np.array([2,2,2,3,3,3,5,2,2])\n",
        "X100=np.random.randint(0,4,(100))\n",
        "X1000=np.random.randint(0,4,(1000))\n",
        "X10000=np.random.randint(0,4,(10000))\n",
        "def foo(x):\n",
        "  lst=[]\n",
        "  kol=[]\n",
        "  temp='-1'\n",
        "  for s in str(x).replace(' ','').replace('[','').replace(']',''):\n",
        "    if s!=temp:\n",
        "      lst.append(s)\n",
        "      kol.append(1)\n",
        "      temp=s\n",
        "    else:\n",
        "      kol[len(kol)-1]+=1\n",
        "  return lst,kol\n",
        "print(\"Answer:\")\n",
        "print(foo(x))\n",
        "print(\"Time for demension 100:\")\n",
        "%timeit foo(X100)\n",
        "print(\"Time for demension 1000:\")\n",
        "%timeit foo(X1000)\n",
        "print(\"Time for demension 10000:\")\n",
        "%timeit foo(X10000)"
      ]
    },
    {
      "cell_type": "markdown",
      "source": [
        "6.3"
      ],
      "metadata": {
        "id": "ktuFtlsoNWhx"
      }
    },
    {
      "cell_type": "code",
      "source": [
        "import timeit\n",
        "import random\n",
        "import numpy as np\n",
        "x=np.array([2,2,2,3,3,3,5,2,2])\n",
        "X100=np.random.randint(0,4,(100))\n",
        "X1000=np.random.randint(0,4,(1000))\n",
        "X10000=np.random.randint(0,4,(10000))\n",
        "def foo(x):\n",
        "  ind=np.where(x[:-1]!=x[1:])[0]\n",
        "  ind=list(map(lambda k:k+1,ind))\n",
        "  parts=np.split(x,ind)\n",
        "  lst=[]\n",
        "  kol=[]\n",
        "  for i in parts:\n",
        "    lst.append(i[0])\n",
        "    kol.append(len(i))\n",
        "  return lst,kol\n",
        "print(\"Answer:\")\n",
        "print(foo(x))\n",
        "print(\"Time for demension 100:\")\n",
        "%timeit foo(X100)\n",
        "print(\"Time for demension 1000:\")\n",
        "%timeit foo(X1000)\n",
        "print(\"Time for demension 10000:\")\n",
        "%timeit foo(X10000)\n"
      ],
      "metadata": {
        "colab": {
          "base_uri": "https://localhost:8080/"
        },
        "id": "A0o3a2SEHHry",
        "outputId": "9f2057a2-1f97-4eae-8a84-d05749c1b5b0"
      },
      "execution_count": 73,
      "outputs": [
        {
          "output_type": "stream",
          "name": "stdout",
          "text": [
            "Answer:\n",
            "([2, 3, 5, 2], [3, 3, 1, 2])\n",
            "Time for demension 100:\n",
            "156 µs ± 36.7 µs per loop (mean ± std. dev. of 7 runs, 10000 loops each)\n",
            "Time for demension 1000:\n",
            "1.39 ms ± 303 µs per loop (mean ± std. dev. of 7 runs, 1000 loops each)\n",
            "Time for demension 10000:\n",
            "14.2 ms ± 3.12 ms per loop (mean ± std. dev. of 7 runs, 100 loops each)\n"
          ]
        }
      ]
    },
    {
      "cell_type": "markdown",
      "source": [
        "Выводы: в последней версии не смог совсем обойтись без циклов, поэтому этот вариант оказался не самым быстрым. Быстрее всего первый вариант с циклами, медленее всего - вариант со строками"
      ],
      "metadata": {
        "id": "32V_xgjJl5Jg"
      }
    },
    {
      "cell_type": "code",
      "source": [],
      "metadata": {
        "id": "H5KS4jUJLdLS"
      },
      "execution_count": null,
      "outputs": []
    }
  ],
  "metadata": {
    "colab": {
      "provenance": [],
      "authorship_tag": "ABX9TyMDyON/Ofo9JuswBzdppGen",
      "include_colab_link": true
    },
    "kernelspec": {
      "display_name": "Python 3",
      "name": "python3"
    },
    "language_info": {
      "name": "python"
    }
  },
  "nbformat": 4,
  "nbformat_minor": 0
}